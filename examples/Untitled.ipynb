{
 "cells": [
  {
   "cell_type": "code",
   "execution_count": 76,
   "metadata": {},
   "outputs": [],
   "source": [
    "from pyquil.api import QPUConnection, QVMConnection, JobConnection\n",
    "from pyquil.gates import RX, X, RY, MEASURE, I\n",
    "from pyquil.quil import Program\n",
    "import pygsti\n",
    "from pygsti.construction import std1Q_XYI\n",
    "\n",
    "import numpy as np\n",
    "\n",
    "qpu = QPUConnection()\n",
    "qvm = QVMConnection()"
   ]
  },
  {
   "cell_type": "code",
   "execution_count": 81,
   "metadata": {},
   "outputs": [
    {
     "name": "stdout",
     "output_type": "stream",
     "text": [
      "job gKlJQeCzCZrTGIAv is currently queued at position 22\n",
      "job gKlJQeCzCZrTGIAv is currently queued at position 16\n",
      "job gKlJQeCzCZrTGIAv is currently queued at position 11\n",
      "job gKlJQeCzCZrTGIAv is currently queued at position 6\n",
      "job gKlJQeCzCZrTGIAv is currently queued at position 1\n",
      "job gKlJQeCzCZrTGIAv is currently running\n"
     ]
    },
    {
     "data": {
      "text/plain": [
       "[[1]]"
      ]
     },
     "execution_count": 81,
     "metadata": {},
     "output_type": "execute_result"
    }
   ],
   "source": [
    "num_qubits = 8\n",
    "qpu.run_and_measure(Program().inst(RX(-np.pi, 0)), [0])"
   ]
  },
  {
   "cell_type": "code",
   "execution_count": 70,
   "metadata": {},
   "outputs": [
    {
     "ename": "TypeError",
     "evalue": "qubit should be an int or Qubit instance",
     "output_type": "error",
     "traceback": [
      "\u001b[0;31m---------------------------------------------------------------------------\u001b[0m",
      "\u001b[0;31mTypeError\u001b[0m                                 Traceback (most recent call last)",
      "\u001b[0;32m<ipython-input-70-7151b3072332>\u001b[0m in \u001b[0;36m<module>\u001b[0;34m()\u001b[0m\n\u001b[0;32m----> 1\u001b[0;31m \u001b[0mRY\u001b[0m\u001b[0;34m(\u001b[0m\u001b[0mnp\u001b[0m\u001b[0;34m.\u001b[0m\u001b[0mpi\u001b[0m\u001b[0;34m)\u001b[0m\u001b[0;34m(\u001b[0m\u001b[0;34m[\u001b[0m\u001b[0;36m0\u001b[0m\u001b[0;34m,\u001b[0m \u001b[0;36m1\u001b[0m\u001b[0;34m]\u001b[0m\u001b[0;34m)\u001b[0m\u001b[0;34m\u001b[0m\u001b[0m\n\u001b[0m",
      "\u001b[0;32m~/repos/apps/pyquil/pyquil/gates.py\u001b[0m in \u001b[0;36mctor\u001b[0;34m(*qubits)\u001b[0m\n\u001b[1;32m     64\u001b[0m                     \u001b[0;34m.\u001b[0m\u001b[0mformat\u001b[0m\u001b[0;34m(\u001b[0m\u001b[0mname\u001b[0m\u001b[0;34m,\u001b[0m \u001b[0mlen\u001b[0m\u001b[0;34m(\u001b[0m\u001b[0mqubits\u001b[0m\u001b[0;34m)\u001b[0m\u001b[0;34m,\u001b[0m \u001b[0mnum_qubits\u001b[0m\u001b[0;34m)\u001b[0m\u001b[0;34m\u001b[0m\u001b[0m\n\u001b[1;32m     65\u001b[0m                 )\n\u001b[0;32m---> 66\u001b[0;31m             \u001b[0;32mreturn\u001b[0m \u001b[0mGate\u001b[0m\u001b[0;34m(\u001b[0m\u001b[0mname\u001b[0m\u001b[0;34m,\u001b[0m \u001b[0mparams\u001b[0m\u001b[0;34m,\u001b[0m \u001b[0;34m[\u001b[0m\u001b[0munpack_qubit\u001b[0m\u001b[0;34m(\u001b[0m\u001b[0mq\u001b[0m\u001b[0;34m)\u001b[0m \u001b[0;32mfor\u001b[0m \u001b[0mq\u001b[0m \u001b[0;32min\u001b[0m \u001b[0mqubits\u001b[0m\u001b[0;34m]\u001b[0m\u001b[0;34m)\u001b[0m\u001b[0;34m\u001b[0m\u001b[0m\n\u001b[0m\u001b[1;32m     67\u001b[0m \u001b[0;34m\u001b[0m\u001b[0m\n\u001b[1;32m     68\u001b[0m         \u001b[0;32mif\u001b[0m \u001b[0mlen\u001b[0m\u001b[0;34m(\u001b[0m\u001b[0mstray_qubits\u001b[0m\u001b[0;34m)\u001b[0m \u001b[0;34m==\u001b[0m \u001b[0mnum_qubits\u001b[0m\u001b[0;34m:\u001b[0m\u001b[0;34m\u001b[0m\u001b[0m\n",
      "\u001b[0;32m~/repos/apps/pyquil/pyquil/gates.py\u001b[0m in \u001b[0;36m<listcomp>\u001b[0;34m(.0)\u001b[0m\n\u001b[1;32m     64\u001b[0m                     \u001b[0;34m.\u001b[0m\u001b[0mformat\u001b[0m\u001b[0;34m(\u001b[0m\u001b[0mname\u001b[0m\u001b[0;34m,\u001b[0m \u001b[0mlen\u001b[0m\u001b[0;34m(\u001b[0m\u001b[0mqubits\u001b[0m\u001b[0;34m)\u001b[0m\u001b[0;34m,\u001b[0m \u001b[0mnum_qubits\u001b[0m\u001b[0;34m)\u001b[0m\u001b[0;34m\u001b[0m\u001b[0m\n\u001b[1;32m     65\u001b[0m                 )\n\u001b[0;32m---> 66\u001b[0;31m             \u001b[0;32mreturn\u001b[0m \u001b[0mGate\u001b[0m\u001b[0;34m(\u001b[0m\u001b[0mname\u001b[0m\u001b[0;34m,\u001b[0m \u001b[0mparams\u001b[0m\u001b[0;34m,\u001b[0m \u001b[0;34m[\u001b[0m\u001b[0munpack_qubit\u001b[0m\u001b[0;34m(\u001b[0m\u001b[0mq\u001b[0m\u001b[0;34m)\u001b[0m \u001b[0;32mfor\u001b[0m \u001b[0mq\u001b[0m \u001b[0;32min\u001b[0m \u001b[0mqubits\u001b[0m\u001b[0;34m]\u001b[0m\u001b[0;34m)\u001b[0m\u001b[0;34m\u001b[0m\u001b[0m\n\u001b[0m\u001b[1;32m     67\u001b[0m \u001b[0;34m\u001b[0m\u001b[0m\n\u001b[1;32m     68\u001b[0m         \u001b[0;32mif\u001b[0m \u001b[0mlen\u001b[0m\u001b[0;34m(\u001b[0m\u001b[0mstray_qubits\u001b[0m\u001b[0;34m)\u001b[0m \u001b[0;34m==\u001b[0m \u001b[0mnum_qubits\u001b[0m\u001b[0;34m:\u001b[0m\u001b[0;34m\u001b[0m\u001b[0m\n",
      "\u001b[0;32m~/repos/apps/pyquil/pyquil/quilbase.py\u001b[0m in \u001b[0;36munpack_qubit\u001b[0;34m(qubit)\u001b[0m\n\u001b[1;32m    570\u001b[0m         \u001b[0;32mreturn\u001b[0m \u001b[0mqubit\u001b[0m\u001b[0;34m\u001b[0m\u001b[0m\n\u001b[1;32m    571\u001b[0m     \u001b[0;32melse\u001b[0m\u001b[0;34m:\u001b[0m\u001b[0;34m\u001b[0m\u001b[0m\n\u001b[0;32m--> 572\u001b[0;31m         \u001b[0;32mraise\u001b[0m \u001b[0mTypeError\u001b[0m\u001b[0;34m(\u001b[0m\u001b[0;34m\"qubit should be an int or Qubit instance\"\u001b[0m\u001b[0;34m)\u001b[0m\u001b[0;34m\u001b[0m\u001b[0m\n\u001b[0m",
      "\u001b[0;31mTypeError\u001b[0m: qubit should be an int or Qubit instance"
     ]
    }
   ],
   "source": []
  },
  {
   "cell_type": "code",
   "execution_count": 61,
   "metadata": {
    "scrolled": true
   },
   "outputs": [
    {
     "name": "stdout",
     "output_type": "stream",
     "text": [
      "job cnSxVUjggaIllLvA is currently running\n"
     ]
    },
    {
     "data": {
      "text/plain": [
       "'ERROR: Error: could not parse quil program:\\n'"
      ]
     },
     "execution_count": 61,
     "metadata": {},
     "output_type": "execute_result"
    }
   ],
   "source": [
    "num_qubits = 8\n",
    "qpu.run_and_measure(prog, [0], 10)"
   ]
  },
  {
   "cell_type": "code",
   "execution_count": 45,
   "metadata": {},
   "outputs": [
    {
     "ename": "RuntimeError",
     "evalue": "Error encountered while parsing the quil program at line 1 and column 1\nReceived an '<EOF>' but was expecting one of [ 'DEFGATE', 'DEFCIRCUIT', 'MEASURE', 'LABEL', 'HALT', 'JUMP', 'JUMP-WHEN', 'JUMP-UNLESS', 'RESET', 'WAIT', 'NOP', 'INCLUDE', 'PRAGMA', 'FALSE', 'TRUE', 'NOT', 'AND', 'OR', 'MOVE', 'EXCHANGE', IDENTIFIER ]",
     "output_type": "error",
     "traceback": [
      "\u001b[0;31m---------------------------------------------------------------------------\u001b[0m",
      "\u001b[0;31mInputMismatchException\u001b[0m                    Traceback (most recent call last)",
      "\u001b[0;32m~/repos/apps/pyquil/pyquil/_parser/gen3/QuilParser.py\u001b[0m in \u001b[0;36mallInstr\u001b[0;34m(self)\u001b[0m\n\u001b[1;32m    433\u001b[0m             \u001b[0mself\u001b[0m\u001b[0;34m.\u001b[0m\u001b[0mstate\u001b[0m \u001b[0;34m=\u001b[0m \u001b[0;36m99\u001b[0m\u001b[0;34m\u001b[0m\u001b[0m\n\u001b[0;32m--> 434\u001b[0;31m             \u001b[0mself\u001b[0m\u001b[0;34m.\u001b[0m\u001b[0m_errHandler\u001b[0m\u001b[0;34m.\u001b[0m\u001b[0msync\u001b[0m\u001b[0;34m(\u001b[0m\u001b[0mself\u001b[0m\u001b[0;34m)\u001b[0m\u001b[0;34m\u001b[0m\u001b[0m\n\u001b[0m\u001b[1;32m    435\u001b[0m             \u001b[0mtoken\u001b[0m \u001b[0;34m=\u001b[0m \u001b[0mself\u001b[0m\u001b[0;34m.\u001b[0m\u001b[0m_input\u001b[0m\u001b[0;34m.\u001b[0m\u001b[0mLA\u001b[0m\u001b[0;34m(\u001b[0m\u001b[0;36m1\u001b[0m\u001b[0;34m)\u001b[0m\u001b[0;34m\u001b[0m\u001b[0m\n",
      "\u001b[0;32m~/.pyenv/versions/smorgasbord/lib/python3.6/site-packages/antlr4/error/ErrorStrategy.py\u001b[0m in \u001b[0;36msync\u001b[0;34m(self, recognizer)\u001b[0m\n\u001b[1;32m    219\u001b[0m             \u001b[0;32melse\u001b[0m\u001b[0;34m:\u001b[0m\u001b[0;34m\u001b[0m\u001b[0m\n\u001b[0;32m--> 220\u001b[0;31m                 \u001b[0;32mraise\u001b[0m \u001b[0mInputMismatchException\u001b[0m\u001b[0;34m(\u001b[0m\u001b[0mrecognizer\u001b[0m\u001b[0;34m)\u001b[0m\u001b[0;34m\u001b[0m\u001b[0m\n\u001b[0m\u001b[1;32m    221\u001b[0m \u001b[0;34m\u001b[0m\u001b[0m\n",
      "\u001b[0;31mInputMismatchException\u001b[0m: None",
      "\nDuring handling of the above exception, another exception occurred:\n",
      "\u001b[0;31mRuntimeError\u001b[0m                              Traceback (most recent call last)",
      "\u001b[0;32m<ipython-input-45-60da1105bf70>\u001b[0m in \u001b[0;36m<module>\u001b[0;34m()\u001b[0m\n\u001b[0;32m----> 1\u001b[0;31m \u001b[0mprint\u001b[0m\u001b[0;34m(\u001b[0m\u001b[0mProgram\u001b[0m\u001b[0;34m(\u001b[0m\u001b[0;34m)\u001b[0m\u001b[0;34m.\u001b[0m\u001b[0minst\u001b[0m\u001b[0;34m(\u001b[0m\u001b[0;34m\"\\n\"\u001b[0m\u001b[0;34m)\u001b[0m\u001b[0;34m)\u001b[0m\u001b[0;34m\u001b[0m\u001b[0m\n\u001b[0m",
      "\u001b[0;32m~/repos/apps/pyquil/pyquil/quil.py\u001b[0m in \u001b[0;36minst\u001b[0;34m(self, *instructions)\u001b[0m\n\u001b[1;32m    108\u001b[0m                         \u001b[0mself\u001b[0m\u001b[0;34m.\u001b[0m\u001b[0mgate\u001b[0m\u001b[0;34m(\u001b[0m\u001b[0mop\u001b[0m\u001b[0;34m,\u001b[0m \u001b[0mparams\u001b[0m\u001b[0;34m,\u001b[0m \u001b[0mrest\u001b[0m\u001b[0;34m)\u001b[0m\u001b[0;34m\u001b[0m\u001b[0m\n\u001b[1;32m    109\u001b[0m             \u001b[0;32melif\u001b[0m \u001b[0misinstance\u001b[0m\u001b[0;34m(\u001b[0m\u001b[0minstruction\u001b[0m\u001b[0;34m,\u001b[0m \u001b[0mstring_types\u001b[0m\u001b[0;34m)\u001b[0m\u001b[0;34m:\u001b[0m\u001b[0;34m\u001b[0m\u001b[0m\n\u001b[0;32m--> 110\u001b[0;31m                 \u001b[0mself\u001b[0m\u001b[0;34m.\u001b[0m\u001b[0minst\u001b[0m\u001b[0;34m(\u001b[0m\u001b[0mrun_parser\u001b[0m\u001b[0;34m(\u001b[0m\u001b[0minstruction\u001b[0m\u001b[0;34m.\u001b[0m\u001b[0mstrip\u001b[0m\u001b[0;34m(\u001b[0m\u001b[0;34m)\u001b[0m\u001b[0;34m)\u001b[0m\u001b[0;34m)\u001b[0m\u001b[0;34m\u001b[0m\u001b[0m\n\u001b[0m\u001b[1;32m    111\u001b[0m             \u001b[0;32melif\u001b[0m \u001b[0misinstance\u001b[0m\u001b[0;34m(\u001b[0m\u001b[0minstruction\u001b[0m\u001b[0;34m,\u001b[0m \u001b[0mDefGate\u001b[0m\u001b[0;34m)\u001b[0m\u001b[0;34m:\u001b[0m\u001b[0;34m\u001b[0m\u001b[0m\n\u001b[1;32m    112\u001b[0m                 \u001b[0mself\u001b[0m\u001b[0;34m.\u001b[0m\u001b[0m_defined_gates\u001b[0m\u001b[0;34m.\u001b[0m\u001b[0mappend\u001b[0m\u001b[0;34m(\u001b[0m\u001b[0minstruction\u001b[0m\u001b[0;34m)\u001b[0m\u001b[0;34m\u001b[0m\u001b[0m\n",
      "\u001b[0;32m~/repos/apps/pyquil/pyquil/_parser/PyQuilListener.py\u001b[0m in \u001b[0;36mrun_parser\u001b[0;34m(quil)\u001b[0m\n\u001b[1;32m     59\u001b[0m     \u001b[0mparser\u001b[0m\u001b[0;34m.\u001b[0m\u001b[0mremoveErrorListeners\u001b[0m\u001b[0;34m(\u001b[0m\u001b[0;34m)\u001b[0m\u001b[0;34m\u001b[0m\u001b[0m\n\u001b[1;32m     60\u001b[0m     \u001b[0mparser\u001b[0m\u001b[0;34m.\u001b[0m\u001b[0maddErrorListener\u001b[0m\u001b[0;34m(\u001b[0m\u001b[0mCustomErrorListener\u001b[0m\u001b[0;34m(\u001b[0m\u001b[0;34m)\u001b[0m\u001b[0;34m)\u001b[0m\u001b[0;34m\u001b[0m\u001b[0m\n\u001b[0;32m---> 61\u001b[0;31m     \u001b[0mtree\u001b[0m \u001b[0;34m=\u001b[0m \u001b[0mparser\u001b[0m\u001b[0;34m.\u001b[0m\u001b[0mquil\u001b[0m\u001b[0;34m(\u001b[0m\u001b[0;34m)\u001b[0m\u001b[0;34m\u001b[0m\u001b[0m\n\u001b[0m\u001b[1;32m     62\u001b[0m \u001b[0;34m\u001b[0m\u001b[0m\n\u001b[1;32m     63\u001b[0m     \u001b[0;31m# Step 3: Run the Listener\u001b[0m\u001b[0;34m\u001b[0m\u001b[0;34m\u001b[0m\u001b[0m\n",
      "\u001b[0;32m~/repos/apps/pyquil/pyquil/_parser/gen3/QuilParser.py\u001b[0m in \u001b[0;36mquil\u001b[0;34m(self)\u001b[0m\n\u001b[1;32m    361\u001b[0m             \u001b[0mself\u001b[0m\u001b[0;34m.\u001b[0m\u001b[0menterOuterAlt\u001b[0m\u001b[0;34m(\u001b[0m\u001b[0mlocalctx\u001b[0m\u001b[0;34m,\u001b[0m \u001b[0;36m1\u001b[0m\u001b[0;34m)\u001b[0m\u001b[0;34m\u001b[0m\u001b[0m\n\u001b[1;32m    362\u001b[0m             \u001b[0mself\u001b[0m\u001b[0;34m.\u001b[0m\u001b[0mstate\u001b[0m \u001b[0;34m=\u001b[0m \u001b[0;36m82\u001b[0m\u001b[0;34m\u001b[0m\u001b[0m\n\u001b[0;32m--> 363\u001b[0;31m             \u001b[0mself\u001b[0m\u001b[0;34m.\u001b[0m\u001b[0mallInstr\u001b[0m\u001b[0;34m(\u001b[0m\u001b[0;34m)\u001b[0m\u001b[0;34m\u001b[0m\u001b[0m\n\u001b[0m\u001b[1;32m    364\u001b[0m             \u001b[0mself\u001b[0m\u001b[0;34m.\u001b[0m\u001b[0mstate\u001b[0m \u001b[0;34m=\u001b[0m \u001b[0;36m91\u001b[0m\u001b[0;34m\u001b[0m\u001b[0m\n\u001b[1;32m    365\u001b[0m             \u001b[0mself\u001b[0m\u001b[0;34m.\u001b[0m\u001b[0m_errHandler\u001b[0m\u001b[0;34m.\u001b[0m\u001b[0msync\u001b[0m\u001b[0;34m(\u001b[0m\u001b[0mself\u001b[0m\u001b[0;34m)\u001b[0m\u001b[0;34m\u001b[0m\u001b[0m\n",
      "\u001b[0;32m~/repos/apps/pyquil/pyquil/_parser/gen3/QuilParser.py\u001b[0m in \u001b[0;36mallInstr\u001b[0;34m(self)\u001b[0m\n\u001b[1;32m    454\u001b[0m         \u001b[0;32mexcept\u001b[0m \u001b[0mRecognitionException\u001b[0m \u001b[0;32mas\u001b[0m \u001b[0mre\u001b[0m\u001b[0;34m:\u001b[0m\u001b[0;34m\u001b[0m\u001b[0m\n\u001b[1;32m    455\u001b[0m             \u001b[0mlocalctx\u001b[0m\u001b[0;34m.\u001b[0m\u001b[0mexception\u001b[0m \u001b[0;34m=\u001b[0m \u001b[0mre\u001b[0m\u001b[0;34m\u001b[0m\u001b[0m\n\u001b[0;32m--> 456\u001b[0;31m             \u001b[0mself\u001b[0m\u001b[0;34m.\u001b[0m\u001b[0m_errHandler\u001b[0m\u001b[0;34m.\u001b[0m\u001b[0mreportError\u001b[0m\u001b[0;34m(\u001b[0m\u001b[0mself\u001b[0m\u001b[0;34m,\u001b[0m \u001b[0mre\u001b[0m\u001b[0;34m)\u001b[0m\u001b[0;34m\u001b[0m\u001b[0m\n\u001b[0m\u001b[1;32m    457\u001b[0m             \u001b[0mself\u001b[0m\u001b[0;34m.\u001b[0m\u001b[0m_errHandler\u001b[0m\u001b[0;34m.\u001b[0m\u001b[0mrecover\u001b[0m\u001b[0;34m(\u001b[0m\u001b[0mself\u001b[0m\u001b[0;34m,\u001b[0m \u001b[0mre\u001b[0m\u001b[0;34m)\u001b[0m\u001b[0;34m\u001b[0m\u001b[0m\n\u001b[1;32m    458\u001b[0m         \u001b[0;32mfinally\u001b[0m\u001b[0;34m:\u001b[0m\u001b[0;34m\u001b[0m\u001b[0m\n",
      "\u001b[0;32m~/.pyenv/versions/smorgasbord/lib/python3.6/site-packages/antlr4/error/ErrorStrategy.py\u001b[0m in \u001b[0;36mreportError\u001b[0;34m(self, recognizer, e)\u001b[0m\n\u001b[1;32m    124\u001b[0m             \u001b[0mself\u001b[0m\u001b[0;34m.\u001b[0m\u001b[0mreportNoViableAlternative\u001b[0m\u001b[0;34m(\u001b[0m\u001b[0mrecognizer\u001b[0m\u001b[0;34m,\u001b[0m \u001b[0me\u001b[0m\u001b[0;34m)\u001b[0m\u001b[0;34m\u001b[0m\u001b[0m\n\u001b[1;32m    125\u001b[0m         \u001b[0;32melif\u001b[0m \u001b[0misinstance\u001b[0m\u001b[0;34m(\u001b[0m \u001b[0me\u001b[0m\u001b[0;34m,\u001b[0m \u001b[0mInputMismatchException\u001b[0m \u001b[0;34m)\u001b[0m\u001b[0;34m:\u001b[0m\u001b[0;34m\u001b[0m\u001b[0m\n\u001b[0;32m--> 126\u001b[0;31m             \u001b[0mself\u001b[0m\u001b[0;34m.\u001b[0m\u001b[0mreportInputMismatch\u001b[0m\u001b[0;34m(\u001b[0m\u001b[0mrecognizer\u001b[0m\u001b[0;34m,\u001b[0m \u001b[0me\u001b[0m\u001b[0;34m)\u001b[0m\u001b[0;34m\u001b[0m\u001b[0m\n\u001b[0m\u001b[1;32m    127\u001b[0m         \u001b[0;32melif\u001b[0m \u001b[0misinstance\u001b[0m\u001b[0;34m(\u001b[0m \u001b[0me\u001b[0m\u001b[0;34m,\u001b[0m \u001b[0mFailedPredicateException\u001b[0m \u001b[0;34m)\u001b[0m\u001b[0;34m:\u001b[0m\u001b[0;34m\u001b[0m\u001b[0m\n\u001b[1;32m    128\u001b[0m             \u001b[0mself\u001b[0m\u001b[0;34m.\u001b[0m\u001b[0mreportFailedPredicate\u001b[0m\u001b[0;34m(\u001b[0m\u001b[0mrecognizer\u001b[0m\u001b[0;34m,\u001b[0m \u001b[0me\u001b[0m\u001b[0;34m)\u001b[0m\u001b[0;34m\u001b[0m\u001b[0m\n",
      "\u001b[0;32m~/.pyenv/versions/smorgasbord/lib/python3.6/site-packages/antlr4/error/ErrorStrategy.py\u001b[0m in \u001b[0;36mreportInputMismatch\u001b[0;34m(self, recognizer, e)\u001b[0m\n\u001b[1;32m    262\u001b[0m         \u001b[0mmsg\u001b[0m \u001b[0;34m=\u001b[0m \u001b[0;34m\"mismatched input \"\u001b[0m \u001b[0;34m+\u001b[0m \u001b[0mself\u001b[0m\u001b[0;34m.\u001b[0m\u001b[0mgetTokenErrorDisplay\u001b[0m\u001b[0;34m(\u001b[0m\u001b[0me\u001b[0m\u001b[0;34m.\u001b[0m\u001b[0moffendingToken\u001b[0m\u001b[0;34m)\u001b[0m\u001b[0;31m \u001b[0m\u001b[0;31m\\\u001b[0m\u001b[0;34m\u001b[0m\u001b[0m\n\u001b[1;32m    263\u001b[0m               \u001b[0;34m+\u001b[0m \u001b[0;34m\" expecting \"\u001b[0m \u001b[0;34m+\u001b[0m \u001b[0me\u001b[0m\u001b[0;34m.\u001b[0m\u001b[0mgetExpectedTokens\u001b[0m\u001b[0;34m(\u001b[0m\u001b[0;34m)\u001b[0m\u001b[0;34m.\u001b[0m\u001b[0mtoString\u001b[0m\u001b[0;34m(\u001b[0m\u001b[0mrecognizer\u001b[0m\u001b[0;34m.\u001b[0m\u001b[0mliteralNames\u001b[0m\u001b[0;34m,\u001b[0m \u001b[0mrecognizer\u001b[0m\u001b[0;34m.\u001b[0m\u001b[0msymbolicNames\u001b[0m\u001b[0;34m)\u001b[0m\u001b[0;34m\u001b[0m\u001b[0m\n\u001b[0;32m--> 264\u001b[0;31m         \u001b[0mrecognizer\u001b[0m\u001b[0;34m.\u001b[0m\u001b[0mnotifyErrorListeners\u001b[0m\u001b[0;34m(\u001b[0m\u001b[0mmsg\u001b[0m\u001b[0;34m,\u001b[0m \u001b[0me\u001b[0m\u001b[0;34m.\u001b[0m\u001b[0moffendingToken\u001b[0m\u001b[0;34m,\u001b[0m \u001b[0me\u001b[0m\u001b[0;34m)\u001b[0m\u001b[0;34m\u001b[0m\u001b[0m\n\u001b[0m\u001b[1;32m    265\u001b[0m \u001b[0;34m\u001b[0m\u001b[0m\n\u001b[1;32m    266\u001b[0m     \u001b[0;31m#\u001b[0m\u001b[0;34m\u001b[0m\u001b[0;34m\u001b[0m\u001b[0m\n",
      "\u001b[0;32m~/.pyenv/versions/smorgasbord/lib/python3.6/site-packages/antlr4/Parser.py\u001b[0m in \u001b[0;36mnotifyErrorListeners\u001b[0;34m(self, msg, offendingToken, e)\u001b[0m\n\u001b[1;32m    304\u001b[0m         \u001b[0mcolumn\u001b[0m \u001b[0;34m=\u001b[0m \u001b[0moffendingToken\u001b[0m\u001b[0;34m.\u001b[0m\u001b[0mcolumn\u001b[0m\u001b[0;34m\u001b[0m\u001b[0m\n\u001b[1;32m    305\u001b[0m         \u001b[0mlistener\u001b[0m \u001b[0;34m=\u001b[0m \u001b[0mself\u001b[0m\u001b[0;34m.\u001b[0m\u001b[0mgetErrorListenerDispatch\u001b[0m\u001b[0;34m(\u001b[0m\u001b[0;34m)\u001b[0m\u001b[0;34m\u001b[0m\u001b[0m\n\u001b[0;32m--> 306\u001b[0;31m         \u001b[0mlistener\u001b[0m\u001b[0;34m.\u001b[0m\u001b[0msyntaxError\u001b[0m\u001b[0;34m(\u001b[0m\u001b[0mself\u001b[0m\u001b[0;34m,\u001b[0m \u001b[0moffendingToken\u001b[0m\u001b[0;34m,\u001b[0m \u001b[0mline\u001b[0m\u001b[0;34m,\u001b[0m \u001b[0mcolumn\u001b[0m\u001b[0;34m,\u001b[0m \u001b[0mmsg\u001b[0m\u001b[0;34m,\u001b[0m \u001b[0me\u001b[0m\u001b[0;34m)\u001b[0m\u001b[0;34m\u001b[0m\u001b[0m\n\u001b[0m\u001b[1;32m    307\u001b[0m \u001b[0;34m\u001b[0m\u001b[0m\n\u001b[1;32m    308\u001b[0m     \u001b[0;31m#\u001b[0m\u001b[0;34m\u001b[0m\u001b[0;34m\u001b[0m\u001b[0m\n",
      "\u001b[0;32m~/.pyenv/versions/smorgasbord/lib/python3.6/site-packages/antlr4/error/ErrorListener.py\u001b[0m in \u001b[0;36msyntaxError\u001b[0;34m(self, recognizer, offendingSymbol, line, column, msg, e)\u001b[0m\n\u001b[1;32m     58\u001b[0m     \u001b[0;32mdef\u001b[0m \u001b[0msyntaxError\u001b[0m\u001b[0;34m(\u001b[0m\u001b[0mself\u001b[0m\u001b[0;34m,\u001b[0m \u001b[0mrecognizer\u001b[0m\u001b[0;34m,\u001b[0m \u001b[0moffendingSymbol\u001b[0m\u001b[0;34m,\u001b[0m \u001b[0mline\u001b[0m\u001b[0;34m,\u001b[0m \u001b[0mcolumn\u001b[0m\u001b[0;34m,\u001b[0m \u001b[0mmsg\u001b[0m\u001b[0;34m,\u001b[0m \u001b[0me\u001b[0m\u001b[0;34m)\u001b[0m\u001b[0;34m:\u001b[0m\u001b[0;34m\u001b[0m\u001b[0m\n\u001b[1;32m     59\u001b[0m         \u001b[0;32mfor\u001b[0m \u001b[0mdelegate\u001b[0m \u001b[0;32min\u001b[0m \u001b[0mself\u001b[0m\u001b[0;34m.\u001b[0m\u001b[0mdelegates\u001b[0m\u001b[0;34m:\u001b[0m\u001b[0;34m\u001b[0m\u001b[0m\n\u001b[0;32m---> 60\u001b[0;31m             \u001b[0mdelegate\u001b[0m\u001b[0;34m.\u001b[0m\u001b[0msyntaxError\u001b[0m\u001b[0;34m(\u001b[0m\u001b[0mrecognizer\u001b[0m\u001b[0;34m,\u001b[0m \u001b[0moffendingSymbol\u001b[0m\u001b[0;34m,\u001b[0m \u001b[0mline\u001b[0m\u001b[0;34m,\u001b[0m \u001b[0mcolumn\u001b[0m\u001b[0;34m,\u001b[0m \u001b[0mmsg\u001b[0m\u001b[0;34m,\u001b[0m \u001b[0me\u001b[0m\u001b[0;34m)\u001b[0m\u001b[0;34m\u001b[0m\u001b[0m\n\u001b[0m\u001b[1;32m     61\u001b[0m \u001b[0;34m\u001b[0m\u001b[0m\n\u001b[1;32m     62\u001b[0m     \u001b[0;32mdef\u001b[0m \u001b[0mreportAmbiguity\u001b[0m\u001b[0;34m(\u001b[0m\u001b[0mself\u001b[0m\u001b[0;34m,\u001b[0m \u001b[0mrecognizer\u001b[0m\u001b[0;34m,\u001b[0m \u001b[0mdfa\u001b[0m\u001b[0;34m,\u001b[0m \u001b[0mstartIndex\u001b[0m\u001b[0;34m,\u001b[0m \u001b[0mstopIndex\u001b[0m\u001b[0;34m,\u001b[0m \u001b[0mexact\u001b[0m\u001b[0;34m,\u001b[0m \u001b[0mambigAlts\u001b[0m\u001b[0;34m,\u001b[0m \u001b[0mconfigs\u001b[0m\u001b[0;34m)\u001b[0m\u001b[0;34m:\u001b[0m\u001b[0;34m\u001b[0m\u001b[0m\n",
      "\u001b[0;32m~/repos/apps/pyquil/pyquil/_parser/PyQuilListener.py\u001b[0m in \u001b[0;36msyntaxError\u001b[0;34m(self, recognizer, offendingSymbol, line, column, msg, e)\u001b[0m\n\u001b[1;32m     76\u001b[0m         raise RuntimeError(\n\u001b[1;32m     77\u001b[0m             \u001b[0;34m\"Error encountered while parsing the quil program at line {} and column {}\\n\"\u001b[0m\u001b[0;34m.\u001b[0m\u001b[0mformat\u001b[0m\u001b[0;34m(\u001b[0m\u001b[0mline\u001b[0m\u001b[0;34m,\u001b[0m \u001b[0mcolumn\u001b[0m \u001b[0;34m+\u001b[0m \u001b[0;36m1\u001b[0m\u001b[0;34m)\u001b[0m \u001b[0;34m+\u001b[0m\u001b[0;34m\u001b[0m\u001b[0m\n\u001b[0;32m---> 78\u001b[0;31m             \u001b[0;34m\"Received an '{}' but was expecting one of [ {} ]\"\u001b[0m\u001b[0;34m.\u001b[0m\u001b[0mformat\u001b[0m\u001b[0;34m(\u001b[0m\u001b[0moffendingSymbol\u001b[0m\u001b[0;34m.\u001b[0m\u001b[0mtext\u001b[0m\u001b[0;34m,\u001b[0m \u001b[0;34m', '\u001b[0m\u001b[0;34m.\u001b[0m\u001b[0mjoin\u001b[0m\u001b[0;34m(\u001b[0m\u001b[0mexpected_tokens\u001b[0m\u001b[0;34m)\u001b[0m\u001b[0;34m)\u001b[0m\u001b[0;34m\u001b[0m\u001b[0m\n\u001b[0m\u001b[1;32m     79\u001b[0m         )\n\u001b[1;32m     80\u001b[0m \u001b[0;34m\u001b[0m\u001b[0m\n",
      "\u001b[0;31mRuntimeError\u001b[0m: Error encountered while parsing the quil program at line 1 and column 1\nReceived an '<EOF>' but was expecting one of [ 'DEFGATE', 'DEFCIRCUIT', 'MEASURE', 'LABEL', 'HALT', 'JUMP', 'JUMP-WHEN', 'JUMP-UNLESS', 'RESET', 'WAIT', 'NOP', 'INCLUDE', 'PRAGMA', 'FALSE', 'TRUE', 'NOT', 'AND', 'OR', 'MOVE', 'EXCHANGE', IDENTIFIER ]"
     ]
    }
   ],
   "source": [
    "print(Program().inst())"
   ]
  },
  {
   "cell_type": "code",
   "execution_count": null,
   "metadata": {},
   "outputs": [],
   "source": []
  },
  {
   "cell_type": "code",
   "execution_count": null,
   "metadata": {},
   "outputs": [],
   "source": []
  },
  {
   "cell_type": "code",
   "execution_count": null,
   "metadata": {},
   "outputs": [],
   "source": []
  },
  {
   "cell_type": "code",
   "execution_count": null,
   "metadata": {},
   "outputs": [],
   "source": []
  },
  {
   "cell_type": "code",
   "execution_count": 71,
   "metadata": {},
   "outputs": [],
   "source": [
    "from pyquil.api import QPUConnection, QVMConnection\n",
    "from pyquil.gates import RX, X, RY\n",
    "from pyquil.quil import Program\n",
    "import pygsti\n",
    "from pygsti.construction import std1Q_XYI\n",
    "\n",
    "import numpy as np\n",
    "\n",
    "qpu = QPUConnection()\n",
    "qvm = QVMConnection()"
   ]
  },
  {
   "cell_type": "code",
   "execution_count": 72,
   "metadata": {},
   "outputs": [],
   "source": [
    "qubit = 4 # Fill this in the the QC you want to analyze!\n",
    "\n",
    "label_conversion = {\"Gx\": RX(np.pi/2., qubit), \"Gy\": RY(np.pi/2., qubit), \"Gi\": RX(0, qubit)} # Redwood does not currently support identity gates\n",
    "gs_target = std1Q_XYI.gs_target\n",
    "preps = std1Q_XYI.fiducials\n",
    "effects = std1Q_XYI.fiducials\n",
    "germs = std1Q_XYI.germs\n",
    "\n",
    "maxLengths = [0, 1, 2, 4, 8, 16] # Adjust this based on your coherence times\n",
    "listOfExperiments = pygsti.construction.make_lsgst_experiment_list(gs_target.gates.keys(), preps, effects, germs, maxLengths)"
   ]
  },
  {
   "cell_type": "code",
   "execution_count": 73,
   "metadata": {
    "scrolled": false
   },
   "outputs": [
    {
     "name": "stdout",
     "output_type": "stream",
     "text": [
      "job ZFZSdKdqvfsJDcsj is currently queued at position 21\n",
      "job ZFZSdKdqvfsJDcsj is currently queued at position 15\n",
      "job ZFZSdKdqvfsJDcsj is currently queued at position 11\n",
      "job ZFZSdKdqvfsJDcsj is currently queued at position 6\n",
      "job ZFZSdKdqvfsJDcsj is currently queued at position 0\n",
      "{} 0 0\n",
      "job ayiStpYAUKgldXzD is currently queued at position 21\n",
      "job ayiStpYAUKgldXzD is currently queued at position 13\n",
      "job ayiStpYAUKgldXzD is currently queued at position 10\n",
      "job ayiStpYAUKgldXzD is currently queued at position 5\n",
      "Gx 601 399\n",
      "job ZxvxqeCThNNcljqM is currently queued at position 22\n",
      "job ZxvxqeCThNNcljqM is currently queued at position 18\n",
      "job ZxvxqeCThNNcljqM is currently queued at position 12\n",
      "job ZxvxqeCThNNcljqM is currently queued at position 7\n",
      "job ZxvxqeCThNNcljqM is currently queued at position 3\n",
      "Gy 593 407\n",
      "job kmHptWWLFwFhmOUa is currently queued at position 22\n",
      "job kmHptWWLFwFhmOUa is currently queued at position 16\n",
      "job kmHptWWLFwFhmOUa is currently queued at position 9\n",
      "job kmHptWWLFwFhmOUa is currently queued at position 5\n",
      "GxGx 461 539\n",
      "job SRgmPFMLbMNhyfWR is currently queued at position 22\n",
      "job SRgmPFMLbMNhyfWR is currently queued at position 17\n",
      "job SRgmPFMLbMNhyfWR is currently queued at position 10\n",
      "job SRgmPFMLbMNhyfWR is currently queued at position 3\n",
      "GxGxGx 588 412\n",
      "job iPZDJKyfZeUwwZlj is currently queued at position 23\n",
      "job iPZDJKyfZeUwwZlj is currently queued at position 17\n",
      "job iPZDJKyfZeUwwZlj is currently queued at position 9\n",
      "job iPZDJKyfZeUwwZlj is currently queued at position 5\n",
      "job iPZDJKyfZeUwwZlj is currently running\n",
      "GyGyGy 616 384\n",
      "job ckPOyGKkUVKUQExL is currently queued at position 22\n",
      "job ckPOyGKkUVKUQExL is currently queued at position 16\n",
      "job ckPOyGKkUVKUQExL is currently queued at position 9\n",
      "job ckPOyGKkUVKUQExL is currently queued at position 4\n",
      "job ckPOyGKkUVKUQExL is currently running\n",
      "GxGy 592 408\n",
      "job UDkrPOrGZZSybvIs is currently queued at position 22\n",
      "job UDkrPOrGZZSybvIs is currently queued at position 17\n",
      "job UDkrPOrGZZSybvIs is currently queued at position 12\n",
      "job UDkrPOrGZZSybvIs is currently queued at position 7\n",
      "job UDkrPOrGZZSybvIs is currently queued at position 2\n",
      "GxGxGxGx 783 217\n",
      "job cFgFcbPzbIUbxJOK is currently queued at position 20\n",
      "job cFgFcbPzbIUbxJOK is currently queued at position 14\n",
      "job cFgFcbPzbIUbxJOK is currently queued at position 7\n",
      "job cFgFcbPzbIUbxJOK is currently queued at position 1\n",
      "GxGyGyGy 583 417\n",
      "job BSuDiwNSQceszOaf is currently queued at position 21\n",
      "job BSuDiwNSQceszOaf is currently queued at position 15\n",
      "job BSuDiwNSQceszOaf is currently queued at position 9\n",
      "job BSuDiwNSQceszOaf is currently queued at position 3\n",
      "GyGx 577 423\n",
      "job oWSDQYktgiIHqOmS is currently queued at position 22\n",
      "job oWSDQYktgiIHqOmS is currently queued at position 16\n",
      "job oWSDQYktgiIHqOmS is currently queued at position 10\n",
      "job oWSDQYktgiIHqOmS is currently queued at position 6\n",
      "job oWSDQYktgiIHqOmS is currently queued at position 1\n",
      "GyGy 415 585\n",
      "job DmzKhPjmipqAEAIl is currently queued at position 21\n",
      "job DmzKhPjmipqAEAIl is currently queued at position 15\n",
      "job DmzKhPjmipqAEAIl is currently queued at position 11\n",
      "job DmzKhPjmipqAEAIl is currently queued at position 6\n",
      "job DmzKhPjmipqAEAIl is currently queued at position 0\n",
      "GyGxGx 608 392\n",
      "job RfJvwEKldpHGozin is currently queued at position 21\n",
      "job RfJvwEKldpHGozin is currently queued at position 17\n",
      "job RfJvwEKldpHGozin is currently queued at position 10\n",
      "job RfJvwEKldpHGozin is currently queued at position 6\n",
      "job RfJvwEKldpHGozin is currently queued at position 1\n",
      "GyGxGxGx 605 395\n",
      "job yJfRPJNbGxeGBqWj is currently queued at position 22\n",
      "job yJfRPJNbGxeGBqWj is currently queued at position 18\n",
      "job yJfRPJNbGxeGBqWj is currently queued at position 12\n",
      "job yJfRPJNbGxeGBqWj is currently queued at position 5\n",
      "job yJfRPJNbGxeGBqWj is currently queued at position 0\n",
      "GyGyGyGy 818 182\n",
      "job YWyxtHvMZvUGBGxM is currently queued at position 22\n",
      "job YWyxtHvMZvUGBGxM is currently queued at position 17\n",
      "job YWyxtHvMZvUGBGxM is currently queued at position 12\n",
      "job YWyxtHvMZvUGBGxM is currently queued at position 7\n",
      "job YWyxtHvMZvUGBGxM is currently queued at position 1\n",
      "GxGxGy 599 401\n",
      "job zUOiHBhqaTHzwjbg is currently queued at position 22\n",
      "job zUOiHBhqaTHzwjbg is currently queued at position 15\n",
      "job zUOiHBhqaTHzwjbg is currently queued at position 10\n",
      "job zUOiHBhqaTHzwjbg is currently queued at position 5\n",
      "job zUOiHBhqaTHzwjbg is currently queued at position 0\n",
      "GxGxGxGxGx 593 407\n",
      "job MmguTtKzjnSjcqPI is currently queued at position 23\n",
      "job MmguTtKzjnSjcqPI is currently queued at position 9\n",
      "job MmguTtKzjnSjcqPI is currently queued at position 3\n",
      "job MmguTtKzjnSjcqPI is currently running\n",
      "GxGxGyGyGy 575 425\n",
      "job WIapLlLRkaGHACan is currently queued at position 20\n",
      "job WIapLlLRkaGHACan is currently queued at position 16\n",
      "job WIapLlLRkaGHACan is currently queued at position 11\n",
      "job WIapLlLRkaGHACan is currently queued at position 5\n",
      "job WIapLlLRkaGHACan is currently queued at position 1\n",
      "GxGxGxGy 601 399\n",
      "job DpHwQgXiGaRlJmoS is currently queued at position 23\n",
      "job DpHwQgXiGaRlJmoS is currently queued at position 16\n",
      "job DpHwQgXiGaRlJmoS is currently queued at position 11\n",
      "job DpHwQgXiGaRlJmoS is currently queued at position 5\n",
      "job DpHwQgXiGaRlJmoS is currently running\n",
      "GxGxGxGxGxGx 453 547\n",
      "job PwIbllZbWWtSwksF is currently queued at position 23\n",
      "job PwIbllZbWWtSwksF is currently queued at position 16\n",
      "job PwIbllZbWWtSwksF is currently queued at position 11\n",
      "job PwIbllZbWWtSwksF is currently queued at position 6\n",
      "job PwIbllZbWWtSwksF is currently queued at position 1\n",
      "GxGxGxGyGyGy 587 413\n",
      "job yRDRpFfXWyRfsusE is currently queued at position 22\n",
      "job yRDRpFfXWyRfsusE is currently queued at position 17\n",
      "job yRDRpFfXWyRfsusE is currently queued at position 9\n",
      "job yRDRpFfXWyRfsusE is currently queued at position 3\n",
      "GyGyGyGx 601 399\n",
      "job lDxIFlsqHYCNwqMP is currently queued at position 22\n",
      "job lDxIFlsqHYCNwqMP is currently queued at position 17\n",
      "job lDxIFlsqHYCNwqMP is currently queued at position 10\n",
      "job lDxIFlsqHYCNwqMP is currently queued at position 5\n",
      "job lDxIFlsqHYCNwqMP is currently queued at position 0\n",
      "GyGyGyGxGx 639 361\n",
      "job WQwgPXnTuYeDpWNi is currently queued at position 22\n",
      "job WQwgPXnTuYeDpWNi is currently queued at position 16\n",
      "job WQwgPXnTuYeDpWNi is currently queued at position 11\n",
      "job WQwgPXnTuYeDpWNi is currently queued at position 4\n",
      "job WQwgPXnTuYeDpWNi is currently running\n",
      "GyGyGyGxGxGx 597 403\n",
      "job VowUDKmylEWLcRdb is currently queued at position 22\n",
      "job VowUDKmylEWLcRdb is currently queued at position 15\n",
      "job VowUDKmylEWLcRdb is currently queued at position 6\n",
      "job VowUDKmylEWLcRdb is currently running\n",
      "GyGyGyGyGyGy 391 609\n",
      "job UKjcEnKWNMjYzRSL is currently queued at position 22\n",
      "job UKjcEnKWNMjYzRSL is currently queued at position 17\n",
      "job UKjcEnKWNMjYzRSL is currently queued at position 12\n",
      "job UKjcEnKWNMjYzRSL is currently queued at position 6\n",
      "job UKjcEnKWNMjYzRSL is currently queued at position 0\n",
      "(Gi) 786 214\n",
      "job DBSTQfSzCyWqOFWF is currently queued at position 23\n",
      "job DBSTQfSzCyWqOFWF is currently queued at position 18\n",
      "job DBSTQfSzCyWqOFWF is currently queued at position 12\n",
      "job DBSTQfSzCyWqOFWF is currently queued at position 7\n",
      "job DBSTQfSzCyWqOFWF is currently queued at position 1\n",
      "(Gi)Gx 562 438\n",
      "job yEwaVxsdJRhAfGLm is currently queued at position 21\n",
      "job yEwaVxsdJRhAfGLm is currently queued at position 16\n",
      "job yEwaVxsdJRhAfGLm is currently queued at position 11\n",
      "job yEwaVxsdJRhAfGLm is currently queued at position 5\n",
      "job yEwaVxsdJRhAfGLm is currently queued at position 1\n",
      "(Gi)Gy 568 432\n",
      "job aXHGyqWjUMtpYbKv is currently queued at position 22\n",
      "job aXHGyqWjUMtpYbKv is currently queued at position 17\n",
      "job aXHGyqWjUMtpYbKv is currently queued at position 12\n",
      "job aXHGyqWjUMtpYbKv is currently queued at position 7\n",
      "job aXHGyqWjUMtpYbKv is currently queued at position 3\n",
      "(Gi)GxGx 426 574\n",
      "job ITpFZaGPuSbzPzYF is currently queued at position 23\n"
     ]
    },
    {
     "ename": "KeyboardInterrupt",
     "evalue": "",
     "output_type": "error",
     "traceback": [
      "\u001b[0;31m---------------------------------------------------------------------------\u001b[0m",
      "\u001b[0;31mKeyboardInterrupt\u001b[0m                         Traceback (most recent call last)",
      "\u001b[0;32m<ipython-input-73-3f424d2cffee>\u001b[0m in \u001b[0;36m<module>\u001b[0;34m()\u001b[0m\n\u001b[1;32m      4\u001b[0m     \u001b[0;32mfor\u001b[0m \u001b[0mgate\u001b[0m \u001b[0;32min\u001b[0m \u001b[0mexperiment\u001b[0m\u001b[0;34m:\u001b[0m\u001b[0;34m\u001b[0m\u001b[0m\n\u001b[1;32m      5\u001b[0m         \u001b[0mprog\u001b[0m \u001b[0;34m+=\u001b[0m \u001b[0mProgram\u001b[0m\u001b[0;34m(\u001b[0m\u001b[0mlabel_conversion\u001b[0m\u001b[0;34m[\u001b[0m\u001b[0mgate\u001b[0m\u001b[0;34m]\u001b[0m\u001b[0;34m)\u001b[0m\u001b[0;34m\u001b[0m\u001b[0m\n\u001b[0;32m----> 6\u001b[0;31m     \u001b[0mresult\u001b[0m \u001b[0;34m=\u001b[0m \u001b[0;34m[\u001b[0m\u001b[0mres\u001b[0m\u001b[0;34m[\u001b[0m\u001b[0;36m0\u001b[0m\u001b[0;34m]\u001b[0m \u001b[0;32mfor\u001b[0m \u001b[0mres\u001b[0m \u001b[0;32min\u001b[0m \u001b[0mqpu\u001b[0m\u001b[0;34m.\u001b[0m\u001b[0mrun_and_measure\u001b[0m\u001b[0;34m(\u001b[0m\u001b[0mprog\u001b[0m\u001b[0;34m,\u001b[0m \u001b[0;34m[\u001b[0m\u001b[0mqubit\u001b[0m\u001b[0;34m]\u001b[0m\u001b[0;34m,\u001b[0m \u001b[0;36m1000\u001b[0m\u001b[0;34m)\u001b[0m\u001b[0;34m]\u001b[0m\u001b[0;34m\u001b[0m\u001b[0m\n\u001b[0m\u001b[1;32m      7\u001b[0m     \u001b[0mds\u001b[0m\u001b[0;34m.\u001b[0m\u001b[0madd_counts_1q\u001b[0m\u001b[0;34m(\u001b[0m\u001b[0mexperiment\u001b[0m\u001b[0;34m,\u001b[0m \u001b[0mlist\u001b[0m\u001b[0;34m(\u001b[0m\u001b[0mresult\u001b[0m\u001b[0;34m)\u001b[0m\u001b[0;34m.\u001b[0m\u001b[0mcount\u001b[0m\u001b[0;34m(\u001b[0m\u001b[0;36m0\u001b[0m\u001b[0;34m)\u001b[0m\u001b[0;34m,\u001b[0m \u001b[0mlist\u001b[0m\u001b[0;34m(\u001b[0m\u001b[0mresult\u001b[0m\u001b[0;34m)\u001b[0m\u001b[0;34m.\u001b[0m\u001b[0mcount\u001b[0m\u001b[0;34m(\u001b[0m\u001b[0;36m1\u001b[0m\u001b[0;34m)\u001b[0m\u001b[0;34m)\u001b[0m\u001b[0;34m\u001b[0m\u001b[0m\n\u001b[1;32m      8\u001b[0m     \u001b[0;31m# We print the number of 0's and 1's for your viewing pleasure.\u001b[0m\u001b[0;34m\u001b[0m\u001b[0;34m\u001b[0m\u001b[0m\n",
      "\u001b[0;32m~/repos/apps/pyquil/pyquil/api/qpu.py\u001b[0m in \u001b[0;36mrun_and_measure\u001b[0;34m(self, quil_program, qubits, trials)\u001b[0m\n\u001b[1;32m     90\u001b[0m \u001b[0;34m\u001b[0m\u001b[0m\n\u001b[1;32m     91\u001b[0m         \u001b[0mresponse\u001b[0m \u001b[0;34m=\u001b[0m \u001b[0mself\u001b[0m\u001b[0;34m.\u001b[0m\u001b[0m_post_json\u001b[0m\u001b[0;34m(\u001b[0m\u001b[0mself\u001b[0m\u001b[0;34m.\u001b[0m\u001b[0masync_endpoint\u001b[0m \u001b[0;34m+\u001b[0m \u001b[0;34m\"/job\"\u001b[0m\u001b[0;34m,\u001b[0m \u001b[0;34m{\u001b[0m\u001b[0;34m\"machine\"\u001b[0m\u001b[0;34m:\u001b[0m \u001b[0;34m\"QPU\"\u001b[0m\u001b[0;34m,\u001b[0m \u001b[0;34m\"program\"\u001b[0m\u001b[0;34m:\u001b[0m \u001b[0mpayload\u001b[0m\u001b[0;34m}\u001b[0m\u001b[0;34m)\u001b[0m\u001b[0;34m\u001b[0m\u001b[0m\n\u001b[0;32m---> 92\u001b[0;31m         \u001b[0mjob\u001b[0m \u001b[0;34m=\u001b[0m \u001b[0mself\u001b[0m\u001b[0;34m.\u001b[0m\u001b[0mwait_for_job\u001b[0m\u001b[0;34m(\u001b[0m\u001b[0mget_job_id\u001b[0m\u001b[0;34m(\u001b[0m\u001b[0mresponse\u001b[0m\u001b[0;34m)\u001b[0m\u001b[0;34m)\u001b[0m\u001b[0;34m\u001b[0m\u001b[0m\n\u001b[0m\u001b[1;32m     93\u001b[0m         \u001b[0;32mreturn\u001b[0m \u001b[0mjob\u001b[0m\u001b[0;34m.\u001b[0m\u001b[0mresult\u001b[0m\u001b[0;34m(\u001b[0m\u001b[0;34m)\u001b[0m\u001b[0;34m\u001b[0m\u001b[0m\n\u001b[1;32m     94\u001b[0m \u001b[0;34m\u001b[0m\u001b[0m\n",
      "\u001b[0;32m~/repos/apps/pyquil/pyquil/api/_base_connection.py\u001b[0m in \u001b[0;36mwait_for_job\u001b[0;34m(self, job_id, ping_time, status_time)\u001b[0m\n\u001b[1;32m     87\u001b[0m                     \u001b[0mprint\u001b[0m\u001b[0;34m(\u001b[0m\u001b[0;34m\"job {} is currently running\"\u001b[0m\u001b[0;34m.\u001b[0m\u001b[0mformat\u001b[0m\u001b[0;34m(\u001b[0m\u001b[0mjob\u001b[0m\u001b[0;34m.\u001b[0m\u001b[0mjob_id\u001b[0m\u001b[0;34m)\u001b[0m\u001b[0;34m)\u001b[0m\u001b[0;34m\u001b[0m\u001b[0m\n\u001b[1;32m     88\u001b[0m \u001b[0;34m\u001b[0m\u001b[0m\n\u001b[0;32m---> 89\u001b[0;31m             \u001b[0mtime\u001b[0m\u001b[0;34m.\u001b[0m\u001b[0msleep\u001b[0m\u001b[0;34m(\u001b[0m\u001b[0mping_time\u001b[0m\u001b[0;34m)\u001b[0m\u001b[0;34m\u001b[0m\u001b[0m\n\u001b[0m\u001b[1;32m     90\u001b[0m             \u001b[0mcount\u001b[0m \u001b[0;34m+=\u001b[0m \u001b[0;36m1\u001b[0m\u001b[0;34m\u001b[0m\u001b[0m\n\u001b[1;32m     91\u001b[0m \u001b[0;34m\u001b[0m\u001b[0m\n",
      "\u001b[0;31mKeyboardInterrupt\u001b[0m: "
     ]
    }
   ],
   "source": [
    "ds = pygsti.objects.DataSet(spamLabels=['minus', 'plus']) # These are the labels Sandia has pre-set\n",
    "for experiment in listOfExperiments:\n",
    "    prog = Program()\n",
    "    for gate in experiment:\n",
    "        prog += Program(label_conversion[gate])\n",
    "    result = [res[0] for res in qpu.run_and_measure(prog, [qubit], 1000)]\n",
    "    ds.add_counts_1q(experiment, list(result).count(0), list(result).count(1))\n",
    "    # We print the number of 0's and 1's for your viewing pleasure.\n",
    "    print(experiment, list(result).count(0), list(result).count(1))\n",
    "ds.done_adding_data()"
   ]
  },
  {
   "cell_type": "code",
   "execution_count": 33,
   "metadata": {},
   "outputs": [
    {
     "name": "stdout",
     "output_type": "stream",
     "text": [
      "--- LGST ---\n",
      "  Singular values of I_tilde (truncating to first 4 of 6) = \n",
      "  4.24273859394\n",
      "  1.42215778327\n",
      "  1.41529400869\n",
      "  1.40759221072\n",
      "  0.0472576545548\n",
      "  0.00849790385145\n",
      "  \n",
      "  Singular values of target I_tilde (truncating to first 4 of 6) = \n",
      "  4.24264068712\n",
      "  1.41421356237\n",
      "  1.41421356237\n",
      "  1.41421356237\n",
      "  3.68243912484e-16\n",
      "  1.43359508138e-16\n",
      "  \n",
      "--- Iterative MLGST: Iter 1 of 6  92 gate strings ---: \n",
      "  --- Minimum Chi^2 GST ---\n",
      "  Created evaluation tree with 1 subtrees.  Will divide 1 procs into 1 (subtree-processing)\n",
      "   groups of ~1 procs each, to distribute over 56 params (taken as 1 param groups of ~56 params).\n",
      "  Sum of Chi^2 = 27.524 (92 data params - 40 model params = expected mean of 52; p-value = 0.997915)\n",
      "  Completed in 0.2s\n",
      "  2*Delta(log(L)) = 30.3539\n",
      "  Iteration 1 took 0.3s\n",
      "  \n",
      "--- Iterative MLGST: Iter 2 of 6  92 gate strings ---: \n",
      "  --- Minimum Chi^2 GST ---\n",
      "  Created evaluation tree with 1 subtrees.  Will divide 1 procs into 1 (subtree-processing)\n",
      "   groups of ~1 procs each, to distribute over 56 params (taken as 1 param groups of ~56 params).\n",
      "  Sum of Chi^2 = 27.524 (92 data params - 40 model params = expected mean of 52; p-value = 0.997915)\n",
      "  Completed in 0.1s\n",
      "  2*Delta(log(L)) = 30.3539\n",
      "  Iteration 2 took 0.1s\n",
      "  \n",
      "--- Iterative MLGST: Iter 3 of 6  168 gate strings ---: \n",
      "  --- Minimum Chi^2 GST ---\n",
      "  Created evaluation tree with 1 subtrees.  Will divide 1 procs into 1 (subtree-processing)\n",
      "   groups of ~1 procs each, to distribute over 56 params (taken as 1 param groups of ~56 params).\n",
      "  Sum of Chi^2 = 82.8012 (168 data params - 40 model params = expected mean of 128; p-value = 0.999327)\n",
      "  Completed in 0.3s\n",
      "  2*Delta(log(L)) = 87.399\n",
      "  Iteration 3 took 0.4s\n",
      "  \n",
      "--- Iterative MLGST: Iter 4 of 6  441 gate strings ---: \n",
      "  --- Minimum Chi^2 GST ---\n",
      "  Created evaluation tree with 1 subtrees.  Will divide 1 procs into 1 (subtree-processing)\n",
      "   groups of ~1 procs each, to distribute over 56 params (taken as 1 param groups of ~56 params).\n",
      "  Sum of Chi^2 = 279.166 (441 data params - 40 model params = expected mean of 401; p-value = 0.999999)\n",
      "  Completed in 0.6s\n",
      "  2*Delta(log(L)) = 289.949\n",
      "  Iteration 4 took 0.6s\n",
      "  \n",
      "--- Iterative MLGST: Iter 5 of 6  817 gate strings ---: \n",
      "  --- Minimum Chi^2 GST ---\n",
      "  Created evaluation tree with 1 subtrees.  Will divide 1 procs into 1 (subtree-processing)\n",
      "   groups of ~1 procs each, to distribute over 56 params (taken as 1 param groups of ~56 params).\n",
      "  Sum of Chi^2 = 519.335 (817 data params - 40 model params = expected mean of 777; p-value = 1)\n",
      "  Completed in 0.8s\n",
      "  2*Delta(log(L)) = 538.155\n",
      "  Iteration 5 took 0.9s\n",
      "  \n",
      "--- Iterative MLGST: Iter 6 of 6  1201 gate strings ---: \n",
      "  --- Minimum Chi^2 GST ---\n",
      "  Created evaluation tree with 1 subtrees.  Will divide 1 procs into 1 (subtree-processing)\n",
      "   groups of ~1 procs each, to distribute over 56 params (taken as 1 param groups of ~56 params).\n",
      "  Sum of Chi^2 = 775.738 (1201 data params - 40 model params = expected mean of 1161; p-value = 1)\n",
      "  Completed in 1.2s\n",
      "  2*Delta(log(L)) = 803.284\n",
      "  Iteration 6 took 1.3s\n",
      "  \n",
      "  Switching to ML objective (last iteration)\n",
      "  --- MLGST ---\n",
      "  Created evaluation tree with 1 subtrees.  Will divide 1 procs into 1 (subtree-processing)\n",
      "   groups of ~1 procs each, to distribute over 56 params (taken as 1 param groups of ~56 params).\n",
      "    Maximum log(L) = 401.642 below upper bound of -1.75582e+06\n",
      "      2*Delta(log(L)) = 803.284 (1201 data params - 40 model params = expected mean of 1161; p-value = 1)\n",
      "    Completed in 0.3s\n",
      "  2*Delta(log(L)) = 803.284\n",
      "  Final MLGST took 0.3s\n",
      "  \n",
      "Iterative MLGST Total Time: 3.9s\n"
     ]
    }
   ],
   "source": [
    "results = pygsti.do_long_sequence_gst(ds, gs_target, preps, effects, germs, maxLengths)"
   ]
  },
  {
   "cell_type": "code",
   "execution_count": 34,
   "metadata": {},
   "outputs": [
    {
     "name": "stdout",
     "output_type": "stream",
     "text": [
      "['Gi', (array([[ -7.77041276e-06]]), None), (0.00079618385134340485, None), (0.0010002999994169883, None)]\n",
      "['Gx', (array([[ -1.06427154e-06]]), None), (0.00057413573334944598, None), (0.0006395723375687205, None)]\n",
      "['Gy', (array([[ -4.73832589e-06]]), None), (0.00066503125170437095, None), (0.0008036641593382369, None)]\n",
      "*** ReportTable object ***\n",
      "|---------------------------------------------------------------------------------------------------------------------|\n",
      "|  Gate  |                   Process|Infidelity  |              1/2 Trace|Distance  |               1/2 Diamond-Norm  |\n",
      "|---------------------------------------------------------------------------------------------------------------------|\n",
      "|    Gi  |  (array([[ -7.77041276e-06]]), None)  |  (0.00079618385134340485, None)  |  (0.0010002999994169883, None)  |\n",
      "|---------------------------------------------------------------------------------------------------------------------|\n",
      "|    Gx  |  (array([[ -1.06427154e-06]]), None)  |  (0.00057413573334944598, None)  |  (0.0006395723375687205, None)  |\n",
      "|---------------------------------------------------------------------------------------------------------------------|\n",
      "|    Gy  |  (array([[ -4.73832589e-06]]), None)  |  (0.00066503125170437095, None)  |  (0.0008036641593382369, None)  |\n",
      "|---------------------------------------------------------------------------------------------------------------------|\n",
      "\n",
      "Access row and column data by indexing into this object\n",
      " as a dictionary using the column header followed by the\n",
      " value of the first element of each row, i.e.,\n",
      " tableObj[<column header>][<first row element>].\n",
      "\n"
     ]
    }
   ],
   "source": [
    "print(results.tables['bestGatesetVsTargetTable'])"
   ]
  },
  {
   "cell_type": "code",
   "execution_count": null,
   "metadata": {},
   "outputs": [],
   "source": []
  }
 ],
 "metadata": {
  "kernelspec": {
   "display_name": "Python 3",
   "language": "python",
   "name": "python3"
  },
  "language_info": {
   "codemirror_mode": {
    "name": "ipython",
    "version": 3
   },
   "file_extension": ".py",
   "mimetype": "text/x-python",
   "name": "python",
   "nbconvert_exporter": "python",
   "pygments_lexer": "ipython3",
   "version": "3.6.3"
  }
 },
 "nbformat": 4,
 "nbformat_minor": 2
}
